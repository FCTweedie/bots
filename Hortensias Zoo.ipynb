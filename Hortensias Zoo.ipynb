{
 "cells": [
  {
   "cell_type": "code",
   "execution_count": 71,
   "metadata": {
    "collapsed": false
   },
   "outputs": [],
   "source": [
    "files = open(\"/Users/fctweedie/Desktop/verbs.json\", \"r\")"
   ]
  },
  {
   "cell_type": "code",
   "execution_count": 72,
   "metadata": {
    "collapsed": true
   },
   "outputs": [],
   "source": [
    "verbs = files.read()"
   ]
  },
  {
   "cell_type": "code",
   "execution_count": 73,
   "metadata": {
    "collapsed": false
   },
   "outputs": [
    {
     "name": "stdout",
     "output_type": "stream",
     "text": [
      "{\n",
      "    \"description\": \"A list of English verbs.\",\n",
      "    \"verbs\": [\n",
      "        {\n",
      "            \"present\": \"accept\",\n",
      "            \"past\": \"accepted\"\n",
      "        },\n",
      "        {\n",
      "            \"present\": \"add\",\n",
      "           \n"
     ]
    }
   ],
   "source": [
    "print verbs[:200]"
   ]
  },
  {
   "cell_type": "code",
   "execution_count": 74,
   "metadata": {
    "collapsed": false
   },
   "outputs": [
    {
     "data": {
      "text/plain": [
       "'{\\n    \"description\": \"A list of English verbs.\",\\n    \"verbs\": [\\n        {\\n            \"present\": \"accept\",\\n            \"past\": \"accepted\"\\n        },\\n        {\\n            \"present\": \"add\",\\n            \"past\": \"added\"\\n        },\\n        {\\n            \"present\": \"admire\",\\n            \"past\": \"admired\"\\n        },\\n        {\\n            \"present\": \"admit\",\\n            \"past\": \"admitted\"\\n        },\\n    '"
      ]
     },
     "execution_count": 74,
     "metadata": {},
     "output_type": "execute_result"
    }
   ],
   "source": [
    "verbs[:400]"
   ]
  },
  {
   "cell_type": "code",
   "execution_count": 75,
   "metadata": {
    "collapsed": false
   },
   "outputs": [
    {
     "name": "stdout",
     "output_type": "stream",
     "text": [
      "['\"accepts\"', '\"adds\"', '\"admires\"', '\"admits\"', '\"advises\"', '\"affords\"', '\"agrees\"', '\"alerts\"', '\"allows\"', '\"amuses\"', '\"analyses\"', '\"announces\"', '\"annoys\"', '\"answers\"', '\"apologises\"', '\"appears\"', '\"applauds\"', '\"appreciates\"', '\"approves\"', '\"argues\"', '\"arranges\"', '\"arrests\"', '\"arrives\"', '\"asks\"', '\"attachs\"', '\"attacks\"', '\"attempts\"', '\"attends\"', '\"attracts\"', '\"avoids\"', '\"backs\"', '\"bakes\"', '\"balances\"', '\"bans\"', '\"bangs\"', '\"bares\"', '\"bats\"', '\"bathes\"', '\"battles\"', '\"beams\"', '\"begs\"', '\"behaves\"', '\"belongs\"', '\"bleachs\"', '\"blesss\"', '\"blinds\"', '\"blinks\"', '\"blots\"', '\"blushs\"', '\"boasts\"', '\"boils\"', '\"bolts\"', '\"bombs\"', '\"books\"', '\"bores\"', '\"borrows\"', '\"bounces\"', '\"bows\"', '\"boxs\"', '\"brakes\"', '\"branchs\"', '\"breathes\"', '\"bruises\"', '\"brushs\"', '\"bubbles\"', '\"bumps\"', '\"burns\"', '\"burys\"', '\"buzzs\"', '\"calculates\"', '\"calls\"', '\"camps\"', '\"cares\"', '\"carrys\"', '\"carves\"', '\"causes\"', '\"challenges\"', '\"changes\"', '\"charges\"', '\"chases\"', '\"cheats\"', '\"checks\"', '\"cheers\"', '\"chews\"', '\"chokes\"', '\"chops\"', '\"claims\"', '\"claps\"', '\"cleans\"', '\"clears\"', '\"clips\"', '\"closes\"', '\"coachs\"', '\"coils\"', '\"collects\"', '\"colours\"', '\"combs\"', '\"commands\"', '\"communicates\"', '\"compares\"', '\"competes\"', '\"complains\"', '\"completes\"', '\"concentrates\"', '\"concerns\"', '\"confesss\"', '\"confuses\"', '\"connects\"', '\"considers\"', '\"consists\"', '\"contains\"', '\"continues\"', '\"copys\"', '\"corrects\"', '\"coughs\"', '\"counts\"', '\"covers\"', '\"cracks\"', '\"crashs\"', '\"crawls\"', '\"crosss\"', '\"crushs\"', '\"crys\"', '\"cures\"', '\"curls\"', '\"curves\"', '\"cycles\"', '\"dams\"', '\"damages\"', '\"dances\"', '\"dares\"', '\"decays\"', '\"deceives\"', '\"decides\"', '\"decorates\"', '\"delays\"', '\"delights\"', '\"delivers\"', '\"depends\"', '\"describes\"', '\"deserts\"', '\"deserves\"', '\"destroys\"', '\"detects\"', '\"develops\"', '\"disagrees\"', '\"disappears\"', '\"disapproves\"', '\"disarms\"', '\"discovers\"', '\"dislikes\"', '\"divides\"', '\"doubles\"', '\"doubts\"', '\"drags\"', '\"drains\"', '\"dreams\"', '\"dresss\"', '\"drips\"', '\"drops\"', '\"drowns\"', '\"drums\"', '\"drys\"', '\"dusts\"', '\"earns\"', '\"educates\"', '\"embarrasss\"', '\"employs\"', '\"emptys\"', '\"encourages\"', '\"ends\"', '\"enjoys\"', '\"enters\"', '\"entertains\"', '\"escapes\"', '\"examines\"', '\"excites\"', '\"excuses\"', '\"exercises\"', '\"exists\"', '\"expands\"', '\"expects\"', '\"explains\"', '\"explodes\"', '\"extends\"', '\"faces\"', '\"fades\"', '\"fails\"', '\"fancys\"', '\"fastens\"', '\"faxs\"', '\"fears\"', '\"fences\"', '\"fetchs\"', '\"files\"', '\"fills\"', '\"films\"', '\"fires\"', '\"fits\"', '\"fixs\"', '\"flaps\"', '\"flashs\"', '\"floats\"', '\"floods\"', '\"flows\"', '\"flowers\"', '\"folds\"', '\"follows\"', '\"fools\"', '\"forces\"', '\"forms\"', '\"founds\"', '\"frames\"', '\"frightens\"', '\"frys\"', '\"gathers\"', '\"gazes\"', '\"glows\"', '\"glues\"', '\"grabs\"', '\"grates\"', '\"greases\"', '\"greets\"', '\"grins\"', '\"grips\"', '\"groans\"', '\"guarantees\"', '\"guards\"', '\"guesss\"', '\"guides\"', '\"hammers\"', '\"hands\"', '\"handles\"', '\"hangs\"', '\"happens\"', '\"harasss\"', '\"harms\"', '\"hates\"', '\"haunts\"', '\"heads\"', '\"heals\"', '\"heaps\"', '\"heats\"', '\"helps\"', '\"hooks\"', '\"hops\"', '\"hopes\"', '\"hovers\"', '\"hugs\"', '\"hums\"', '\"hunts\"', '\"hurrys\"', '\"identifys\"', '\"ignores\"', '\"imagines\"', '\"impresss\"', '\"improves\"', '\"includes\"', '\"increases\"', '\"influences\"', '\"informs\"', '\"injects\"', '\"injures\"', '\"instructs\"', '\"intends\"', '\"interests\"', '\"interferes\"', '\"interrupts\"', '\"introduces\"', '\"invents\"', '\"invites\"', '\"irritates\"', '\"itchs\"', '\"jails\"', '\"jams\"', '\"jogs\"', '\"joins\"', '\"jokes\"', '\"judges\"', '\"juggles\"', '\"jumps\"', '\"kicks\"', '\"kills\"', '\"kisss\"', '\"kneels\"', '\"knits\"', '\"knocks\"', '\"knots\"', '\"labels\"', '\"lands\"', '\"lasts\"', '\"laughs\"', '\"launchs\"', '\"learns\"', '\"levels\"', '\"licenses\"', '\"licks\"', '\"lies\"', '\"lightens\"', '\"likes\"', '\"lists\"', '\"listens\"', '\"lives\"', '\"loads\"', '\"locks\"', '\"longs\"', '\"looks\"', '\"loves\"', '\"mans\"', '\"manages\"', '\"marchs\"', '\"marks\"', '\"marrys\"', '\"matchs\"', '\"mates\"', '\"matters\"', '\"measures\"', '\"meddles\"', '\"melts\"', '\"memorises\"', '\"mends\"', '\"mess ups\"', '\"milks\"', '\"mines\"', '\"misss\"', '\"mixs\"', '\"moans\"', '\"moors\"', '\"mourns\"', '\"moves\"', '\"muddles\"', '\"mugs\"', '\"multiplys\"', '\"murders\"', '\"nails\"', '\"names\"', '\"needs\"', '\"nests\"', '\"nods\"', '\"notes\"', '\"notices\"', '\"numbers\"', '\"obeys\"', '\"objects\"', '\"observes\"', '\"obtains\"', '\"occurs\"', '\"offends\"', '\"offers\"', '\"opens\"', '\"orders\"', '\"overflows\"', '\"owes\"', '\"owns\"', '\"packs\"', '\"paddles\"', '\"paints\"', '\"parks\"', '\"parts\"', '\"passs\"', '\"pastes\"', '\"pats\"', '\"pauses\"', '\"pecks\"', '\"pedals\"', '\"peels\"', '\"peeps\"', '\"performs\"', '\"permits\"', '\"phones\"', '\"picks\"', '\"pinchs\"', '\"pines\"', '\"places\"', '\"plans\"', '\"plants\"', '\"plays\"', '\"pleases\"', '\"plugs\"', '\"points\"', '\"pokes\"', '\"polishs\"', '\"pops\"', '\"possesss\"', '\"posts\"', '\"pours\"', '\"practises\"', '\"prays\"', '\"preachs\"', '\"precedes\"', '\"prefers\"', '\"prepares\"', '\"presents\"', '\"presentes\"', '\"preserves\"', '\"presss\"', '\"pretends\"', '\"prevents\"', '\"pricks\"', '\"prints\"', '\"produces\"', '\"programs\"', '\"promises\"', '\"protects\"', '\"provides\"', '\"pulls\"', '\"pumps\"', '\"punchs\"', '\"punctures\"', '\"punishs\"', '\"pushs\"', '\"questions\"', '\"queues\"', '\"races\"', '\"radiates\"', '\"rains\"', '\"raises\"', '\"reachs\"', '\"realises\"', '\"receives\"', '\"recognises\"', '\"records\"', '\"reduces\"', '\"reflects\"', '\"refuses\"', '\"regrets\"', '\"reigns\"', '\"rejects\"', '\"rejoices\"', '\"relaxs\"', '\"releases\"', '\"relys\"', '\"remains\"', '\"remembers\"', '\"reminds\"', '\"removes\"', '\"repairs\"', '\"repeats\"', '\"replaces\"', '\"replys\"', '\"reports\"', '\"reproduces\"', '\"requests\"', '\"rescues\"', '\"retires\"', '\"returns\"', '\"rhymes\"', '\"rinses\"', '\"risks\"', '\"robs\"', '\"rocks\"', '\"rolls\"', '\"rots\"', '\"rubs\"', '\"ruins\"', '\"rules\"', '\"rushs\"', '\"sacks\"', '\"sails\"', '\"satisfys\"', '\"saves\"', '\"saws\"', '\"scares\"', '\"scatters\"', '\"scolds\"', '\"scorchs\"', '\"scrapes\"', '\"scratchs\"', '\"screams\"', '\"screws\"', '\"scribbles\"', '\"scrubs\"', '\"seals\"', '\"searchs\"', '\"separates\"', '\"serves\"', '\"settles\"', '\"shades\"', '\"shares\"', '\"shaves\"', '\"shelters\"', '\"shivers\"', '\"shocks\"', '\"shops\"', '\"shrugs\"', '\"sighs\"', '\"signs\"', '\"signals\"', '\"sins\"', '\"sips\"', '\"skis\"', '\"skips\"', '\"slaps\"', '\"slips\"', '\"slows\"', '\"smashs\"', '\"smells\"', '\"smiles\"', '\"smokes\"', '\"snatchs\"', '\"sneezes\"', '\"sniffs\"', '\"snores\"', '\"snows\"', '\"soaks\"', '\"soothes\"', '\"sounds\"', '\"spares\"', '\"sparks\"', '\"sparkles\"', '\"spells\"', '\"spills\"', '\"spoils\"', '\"spots\"', '\"sprays\"', '\"sprouts\"', '\"squashs\"', '\"squeaks\"', '\"squeals\"', '\"squeezes\"', '\"stains\"', '\"stamps\"', '\"stares\"', '\"starts\"', '\"stays\"', '\"steers\"', '\"steps\"', '\"stirs\"', '\"stitchs\"', '\"stops\"', '\"stores\"', '\"straps\"', '\"strengthens\"', '\"stretchs\"', '\"strips\"', '\"strokes\"', '\"stuffs\"', '\"subtracts\"', '\"succeeds\"', '\"sucks\"', '\"suffers\"', '\"suggests\"', '\"suits\"', '\"supplys\"', '\"supports\"', '\"supposes\"', '\"surprises\"', '\"surrounds\"', '\"suspects\"', '\"suspends\"', '\"switchs\"', '\"talks\"', '\"tames\"', '\"taps\"', '\"tastes\"', '\"teases\"', '\"telephones\"', '\"tempts\"', '\"terrifys\"', '\"tests\"', '\"thanks\"', '\"thaws\"', '\"ticks\"', '\"tickles\"', '\"ties\"', '\"times\"', '\"tips\"', '\"tires\"', '\"touchs\"', '\"tours\"', '\"tows\"', '\"traces\"', '\"trades\"', '\"trains\"', '\"transports\"', '\"traps\"', '\"travels\"', '\"treats\"', '\"trembles\"', '\"tricks\"', '\"trips\"', '\"trots\"', '\"troubles\"', '\"trusts\"', '\"trys\"', '\"tugs\"', '\"tumbles\"', '\"turns\"', '\"twists\"', '\"types\"', '\"undresss\"', '\"unfastens\"', '\"unites\"', '\"unlocks\"', '\"unpacks\"', '\"untidys\"', '\"uses\"', '\"vanishs\"', '\"visits\"', '\"wails\"', '\"waits\"', '\"walks\"', '\"wanders\"', '\"wants\"', '\"warms\"', '\"warns\"', '\"washs\"', '\"wastes\"', '\"watchs\"', '\"waters\"', '\"waves\"', '\"weighs\"', '\"welcomes\"', '\"whines\"', '\"whips\"', '\"whirls\"', '\"whispers\"', '\"whistles\"', '\"winks\"', '\"wipes\"', '\"wishs\"', '\"wobbles\"', '\"wonders\"', '\"works\"', '\"worrys\"', '\"wraps\"', '\"wrecks\"', '\"wrestles\"', '\"wriggles\"', '\"x-rays\"', '\"yawns\"', '\"yells\"', '\"zips\"', '\"zooms\"']\n"
     ]
    }
   ],
   "source": [
    "presentverbs = []\n",
    "pastverbs = []\n",
    "for line in verbs.split('\\n'):\n",
    "    if \"past\" in line: \n",
    "        verb = line.split(':')\n",
    "        #print verb[1]\n",
    "        pastverbs.append(verb[1].strip(' '))\n",
    "    if \"present\" in line:\n",
    "        verb = line.split(':')\n",
    "        temp = verb[1].strip(' ')[:-2]\n",
    "        #print temp\n",
    "        presentverbs.append(temp+'s\"')\n",
    "print presentverbs"
   ]
  },
  {
   "cell_type": "code",
   "execution_count": 76,
   "metadata": {
    "collapsed": false
   },
   "outputs": [
    {
     "name": "stdout",
     "output_type": "stream",
     "text": [
      "\"accepts\", \"adds\", \"admires\", \"admits\", \"advises\", \"affords\", \"agrees\", \"alerts\", \"allows\", \"amuses\", \"analyses\", \"announces\", \"annoys\", \"answers\", \"apologises\", \"appears\", \"applauds\", \"appreciates\", \"approves\", \"argues\", \"arranges\", \"arrests\", \"arrives\", \"asks\", \"attachs\", \"attacks\", \"attempts\", \"attends\", \"attracts\", \"avoids\", \"backs\", \"bakes\", \"balances\", \"bans\", \"bangs\", \"bares\", \"bats\", \"bathes\", \"battles\", \"beams\", \"begs\", \"behaves\", \"belongs\", \"bleachs\", \"blesss\", \"blinds\", \"blinks\", \"blots\", \"blushs\", \"boasts\", \"boils\", \"bolts\", \"bombs\", \"books\", \"bores\", \"borrows\", \"bounces\", \"bows\", \"boxs\", \"brakes\", \"branchs\", \"breathes\", \"bruises\", \"brushs\", \"bubbles\", \"bumps\", \"burns\", \"burys\", \"buzzs\", \"calculates\", \"calls\", \"camps\", \"cares\", \"carrys\", \"carves\", \"causes\", \"challenges\", \"changes\", \"charges\", \"chases\", \"cheats\", \"checks\", \"cheers\", \"chews\", \"chokes\", \"chops\", \"claims\", \"claps\", \"cleans\", \"clears\", \"clips\", \"closes\", \"coachs\", \"coils\", \"collects\", \"colours\", \"combs\", \"commands\", \"communicates\", \"compares\", \"competes\", \"complains\", \"completes\", \"concentrates\", \"concerns\", \"confesss\", \"confuses\", \"connects\", \"considers\", \"consists\", \"contains\", \"continues\", \"copys\", \"corrects\", \"coughs\", \"counts\", \"covers\", \"cracks\", \"crashs\", \"crawls\", \"crosss\", \"crushs\", \"crys\", \"cures\", \"curls\", \"curves\", \"cycles\", \"dams\", \"damages\", \"dances\", \"dares\", \"decays\", \"deceives\", \"decides\", \"decorates\", \"delays\", \"delights\", \"delivers\", \"depends\", \"describes\", \"deserts\", \"deserves\", \"destroys\", \"detects\", \"develops\", \"disagrees\", \"disappears\", \"disapproves\", \"disarms\", \"discovers\", \"dislikes\", \"divides\", \"doubles\", \"doubts\", \"drags\", \"drains\", \"dreams\", \"dresss\", \"drips\", \"drops\", \"drowns\", \"drums\", \"drys\", \"dusts\", \"earns\", \"educates\", \"embarrasss\", \"employs\", \"emptys\", \"encourages\", \"ends\", \"enjoys\", \"enters\", \"entertains\", \"escapes\", \"examines\", \"excites\", \"excuses\", \"exercises\", \"exists\", \"expands\", \"expects\", \"explains\", \"explodes\", \"extends\", \"faces\", \"fades\", \"fails\", \"fancys\", \"fastens\", \"faxs\", \"fears\", \"fences\", \"fetchs\", \"files\", \"fills\", \"films\", \"fires\", \"fits\", \"fixs\", \"flaps\", \"flashs\", \"floats\", \"floods\", \"flows\", \"flowers\", \"folds\", \"follows\", \"fools\", \"forces\", \"forms\", \"founds\", \"frames\", \"frightens\", \"frys\", \"gathers\", \"gazes\", \"glows\", \"glues\", \"grabs\", \"grates\", \"greases\", \"greets\", \"grins\", \"grips\", \"groans\", \"guarantees\", \"guards\", \"guesss\", \"guides\", \"hammers\", \"hands\", \"handles\", \"hangs\", \"happens\", \"harasss\", \"harms\", \"hates\", \"haunts\", \"heads\", \"heals\", \"heaps\", \"heats\", \"helps\", \"hooks\", \"hops\", \"hopes\", \"hovers\", \"hugs\", \"hums\", \"hunts\", \"hurrys\", \"identifys\", \"ignores\", \"imagines\", \"impresss\", \"improves\", \"includes\", \"increases\", \"influences\", \"informs\", \"injects\", \"injures\", \"instructs\", \"intends\", \"interests\", \"interferes\", \"interrupts\", \"introduces\", \"invents\", \"invites\", \"irritates\", \"itchs\", \"jails\", \"jams\", \"jogs\", \"joins\", \"jokes\", \"judges\", \"juggles\", \"jumps\", \"kicks\", \"kills\", \"kisss\", \"kneels\", \"knits\", \"knocks\", \"knots\", \"labels\", \"lands\", \"lasts\", \"laughs\", \"launchs\", \"learns\", \"levels\", \"licenses\", \"licks\", \"lies\", \"lightens\", \"likes\", \"lists\", \"listens\", \"lives\", \"loads\", \"locks\", \"longs\", \"looks\", \"loves\", \"mans\", \"manages\", \"marchs\", \"marks\", \"marrys\", \"matchs\", \"mates\", \"matters\", \"measures\", \"meddles\", \"melts\", \"memorises\", \"mends\", \"mess ups\", \"milks\", \"mines\", \"misss\", \"mixs\", \"moans\", \"moors\", \"mourns\", \"moves\", \"muddles\", \"mugs\", \"multiplys\", \"murders\", \"nails\", \"names\", \"needs\", \"nests\", \"nods\", \"notes\", \"notices\", \"numbers\", \"obeys\", \"objects\", \"observes\", \"obtains\", \"occurs\", \"offends\", \"offers\", \"opens\", \"orders\", \"overflows\", \"owes\", \"owns\", \"packs\", \"paddles\", \"paints\", \"parks\", \"parts\", \"passs\", \"pastes\", \"pats\", \"pauses\", \"pecks\", \"pedals\", \"peels\", \"peeps\", \"performs\", \"permits\", \"phones\", \"picks\", \"pinchs\", \"pines\", \"places\", \"plans\", \"plants\", \"plays\", \"pleases\", \"plugs\", \"points\", \"pokes\", \"polishs\", \"pops\", \"possesss\", \"posts\", \"pours\", \"practises\", \"prays\", \"preachs\", \"precedes\", \"prefers\", \"prepares\", \"presents\", \"presentes\", \"preserves\", \"presss\", \"pretends\", \"prevents\", \"pricks\", \"prints\", \"produces\", \"programs\", \"promises\", \"protects\", \"provides\", \"pulls\", \"pumps\", \"punchs\", \"punctures\", \"punishs\", \"pushs\", \"questions\", \"queues\", \"races\", \"radiates\", \"rains\", \"raises\", \"reachs\", \"realises\", \"receives\", \"recognises\", \"records\", \"reduces\", \"reflects\", \"refuses\", \"regrets\", \"reigns\", \"rejects\", \"rejoices\", \"relaxs\", \"releases\", \"relys\", \"remains\", \"remembers\", \"reminds\", \"removes\", \"repairs\", \"repeats\", \"replaces\", \"replys\", \"reports\", \"reproduces\", \"requests\", \"rescues\", \"retires\", \"returns\", \"rhymes\", \"rinses\", \"risks\", \"robs\", \"rocks\", \"rolls\", \"rots\", \"rubs\", \"ruins\", \"rules\", \"rushs\", \"sacks\", \"sails\", \"satisfys\", \"saves\", \"saws\", \"scares\", \"scatters\", \"scolds\", \"scorchs\", \"scrapes\", \"scratchs\", \"screams\", \"screws\", \"scribbles\", \"scrubs\", \"seals\", \"searchs\", \"separates\", \"serves\", \"settles\", \"shades\", \"shares\", \"shaves\", \"shelters\", \"shivers\", \"shocks\", \"shops\", \"shrugs\", \"sighs\", \"signs\", \"signals\", \"sins\", \"sips\", \"skis\", \"skips\", \"slaps\", \"slips\", \"slows\", \"smashs\", \"smells\", \"smiles\", \"smokes\", \"snatchs\", \"sneezes\", \"sniffs\", \"snores\", \"snows\", \"soaks\", \"soothes\", \"sounds\", \"spares\", \"sparks\", \"sparkles\", \"spells\", \"spills\", \"spoils\", \"spots\", \"sprays\", \"sprouts\", \"squashs\", \"squeaks\", \"squeals\", \"squeezes\", \"stains\", \"stamps\", \"stares\", \"starts\", \"stays\", \"steers\", \"steps\", \"stirs\", \"stitchs\", \"stops\", \"stores\", \"straps\", \"strengthens\", \"stretchs\", \"strips\", \"strokes\", \"stuffs\", \"subtracts\", \"succeeds\", \"sucks\", \"suffers\", \"suggests\", \"suits\", \"supplys\", \"supports\", \"supposes\", \"surprises\", \"surrounds\", \"suspects\", \"suspends\", \"switchs\", \"talks\", \"tames\", \"taps\", \"tastes\", \"teases\", \"telephones\", \"tempts\", \"terrifys\", \"tests\", \"thanks\", \"thaws\", \"ticks\", \"tickles\", \"ties\", \"times\", \"tips\", \"tires\", \"touchs\", \"tours\", \"tows\", \"traces\", \"trades\", \"trains\", \"transports\", \"traps\", \"travels\", \"treats\", \"trembles\", \"tricks\", \"trips\", \"trots\", \"troubles\", \"trusts\", \"trys\", \"tugs\", \"tumbles\", \"turns\", \"twists\", \"types\", \"undresss\", \"unfastens\", \"unites\", \"unlocks\", \"unpacks\", \"untidys\", \"uses\", \"vanishs\", \"visits\", \"wails\", \"waits\", \"walks\", \"wanders\", \"wants\", \"warms\", \"warns\", \"washs\", \"wastes\", \"watchs\", \"waters\", \"waves\", \"weighs\", \"welcomes\", \"whines\", \"whips\", \"whirls\", \"whispers\", \"whistles\", \"winks\", \"wipes\", \"wishs\", \"wobbles\", \"wonders\", \"works\", \"worrys\", \"wraps\", \"wrecks\", \"wrestles\", \"wriggles\", \"x-rays\", \"yawns\", \"yells\", \"zips\", \"zooms\"\n"
     ]
    }
   ],
   "source": [
    "verbstring = ', '.join(presentverbs)\n",
    "print verbstring"
   ]
  },
  {
   "cell_type": "code",
   "execution_count": 77,
   "metadata": {
    "collapsed": true
   },
   "outputs": [],
   "source": [
    "verbs2 = open(\"verbslist.txt\", \"w\")"
   ]
  },
  {
   "cell_type": "code",
   "execution_count": 78,
   "metadata": {
    "collapsed": false
   },
   "outputs": [],
   "source": [
    "verbs2.write(verbstring)\n",
    "verbs2.close()"
   ]
  },
  {
   "cell_type": "code",
   "execution_count": 79,
   "metadata": {
    "collapsed": true
   },
   "outputs": [],
   "source": [
    "files = open(\"/Users/fctweedie/Desktop/adverbs.json\", \"r\")"
   ]
  },
  {
   "cell_type": "code",
   "execution_count": 80,
   "metadata": {
    "collapsed": true
   },
   "outputs": [],
   "source": [
    "adverbs = files.read()"
   ]
  },
  {
   "cell_type": "code",
   "execution_count": 81,
   "metadata": {
    "collapsed": false
   },
   "outputs": [
    {
     "data": {
      "text/plain": [
       "'{\\n    \"adverbs\": [\\n        \"abnormally\",\\n        \"absentmindedly\",\\n        \"accidentally\",\\n        \"acidly\",\\n        \"actually\",\\n        \"adventurousl'"
      ]
     },
     "execution_count": 81,
     "metadata": {},
     "output_type": "execute_result"
    }
   ],
   "source": [
    "adverbs[:150]"
   ]
  },
  {
   "cell_type": "code",
   "execution_count": 82,
   "metadata": {
    "collapsed": false
   },
   "outputs": [
    {
     "name": "stdout",
     "output_type": "stream",
     "text": [
      "['', '\"adverbs\": ', '\"abnormally\"', '\"absentmindedly\"', '\"accidentally\"', '\"acidly\"', '\"actually\"', '\"adventurously\"', '\"afterwards\"', '\"almost\"', '\"always\"', '\"angrily\"', '\"annually\"', '\"anxiously\"', '\"arrogantly\"', '\"awkwardly\"', '\"badly\"', '\"bashfully\"', '\"beautifully\"', '\"bitterly\"', '\"bleakly\"', '\"blindly\"', '\"blissfully\"', '\"boastfully\"', '\"boldly\"', '\"bravely\"', '\"briefly\"', '\"brightly\"', '\"briskly\"', '\"broadly\"', '\"busily\"', '\"calmly\"', '\"carefully\"', '\"carelessly\"', '\"cautiously\"', '\"certainly\"', '\"cheerfully\"', '\"clearly\"', '\"cleverly\"', '\"closely\"', '\"coaxingly\"', '\"colorfully\"', '\"commonly\"', '\"continually\"', '\"coolly\"', '\"correctly\"', '\"courageously\"', '\"crossly\"', '\"cruelly\"', '\"curiously\"', '\"daily\"', '\"daintily\"', '\"dearly\"', '\"deceivingly\"', '\"delightfully\"', '\"deeply\"', '\"defiantly\"', '\"deliberately\"', '\"delightfully\"', '\"diligently\"', '\"dimly\"', '\"doubtfully\"', '\"dreamily\"', '\"easily\"', '\"elegantly\"', '\"energetically\"', '\"enormously\"', '\"enthusiastically\"', '\"equally\"', '\"especially\"', '\"even\"', '\"evenly\"', '\"eventually\"', '\"exactly\"', '\"excitedly\"', '\"extremely\"', '\"fairly\"', '\"faithfully\"', '\"famously\"', '\"far\"', '\"fast\"', '\"fatally\"', '\"ferociously\"', '\"fervently\"', '\"fiercely\"', '\"fondly\"', '\"foolishly\"', '\"fortunately\"', '\"frankly\"', '\"frantically\"', '\"freely\"', '\"frenetically\"', '\"frightfully\"', '\"fully\"', '\"furiously\"', '\"generally\"', '\"generously\"', '\"gently\"', '\"gladly\"', '\"gleefully\"', '\"gracefully\"', '\"gratefully\"', '\"greatly\"', '\"greedily\"', '\"happily\"', '\"hastily\"', '\"healthily\"', '\"heavily\"', '\"helpfully\"', '\"helplessly\"', '\"highly\"', '\"honestly\"', '\"hopelessly\"', '\"hourly\"', '\"hungrily\"', '\"immediately\"', '\"innocently\"', '\"inquisitively\"', '\"instantly\"', '\"intensely\"', '\"intently\"', '\"interestingly\"', '\"inwardly\"', '\"irritably\"', '\"jaggedly\"', '\"jealously\"', '\"joshingly\"', '\"joyfully\"', '\"joyously\"', '\"jovially\"', '\"jubilantly\"', '\"judgementally\"', '\"justly\"', '\"keenly\"', '\"kiddingly\"', '\"kindheartedly\"', '\"kindly\"', '\"kissingly\"', '\"knavishly\"', '\"knottily\"', '\"knowingly\"', '\"knowledgeably\"', '\"kookily\"', '\"lazily\"', '\"less\"', '\"lightly\"', '\"likely\"', '\"limply\"', '\"lively\"', '\"loftily\"', '\"longingly\"', '\"loosely\"', '\"lovingly\"', '\"loudly\"', '\"loyally\"', '\"madly\"', '\"majestically\"', '\"meaningfully\"', '\"mechanically\"', '\"merrily\"', '\"miserably\"', '\"mockingly\"', '\"monthly\"', '\"more\"', '\"mortally\"', '\"mostly\"', '\"mysteriously\"', '\"naturally\"', '\"nearly\"', '\"neatly\"', '\"needily\"', '\"nervously\"', '\"never\"', '\"nicely\"', '\"noisily\"', '\"not\"', '\"obediently\"', '\"obnoxiously\"', '\"oddly\"', '\"offensively\"', '\"officially\"', '\"often\"', '\"only\"', '\"openly\"', '\"optimistically\"', '\"overconfidently\"', '\"owlishly\"', '\"painfully\"', '\"partially\"', '\"patiently\"', '\"perfectly\"', '\"physically\"', '\"playfully\"', '\"politely\"', '\"poorly\"', '\"positively\"', '\"potentially\"', '\"powerfully\"', '\"promptly\"', '\"properly\"', '\"punctually\"', '\"quaintly\"', '\"quarrelsomely\"', '\"queasily\"', '\"queerly\"', '\"questionably\"', '\"questioningly\"', '\"quicker\"', '\"quickly\"', '\"quietly\"', '\"quirkily\"', '\"quizzically\"', '\"rapidly\"', '\"rarely\"', '\"readily\"', '\"really\"', '\"reassuringly\"', '\"recklessly\"', '\"regularly\"', '\"reluctantly\"', '\"repeatedly\"', '\"reproachfully\"', '\"restfully\"', '\"righteously\"', '\"rightfully\"', '\"rigidly\"', '\"roughly\"', '\"rudely\"', '\"sadly\"', '\"safely\"', '\"scarcely\"', '\"scarily\"', '\"searchingly\"', '\"sedately\"', '\"seemingly\"', '\"seldom\"', '\"selfishly\"', '\"separately\"', '\"seriously\"', '\"shakily\"', '\"sharply\"', '\"sheepishly\"', '\"shrilly\"', '\"shyly\"', '\"silently\"', '\"sleepily\"', '\"slowly\"', '\"smoothly\"', '\"softly\"', '\"solemnly\"', '\"solidly\"', '\"sometimes\"', '\"soon\"', '\"speedily\"', '\"stealthily\"', '\"sternly\"', '\"strictly\"', '\"successfully\"', '\"suddenly\"', '\"surprisingly\"', '\"suspiciously\"', '\"sweetly\"', '\"swiftly\"', '\"sympathetically\"', '\"tenderly\"', '\"tensely\"', '\"terribly\"', '\"thankfully\"', '\"thoroughly\"', '\"thoughtfully\"', '\"tightly\"', '\"tomorrow\"', '\"too\"', '\"tremendously\"', '\"triumphantly\"', '\"truly\"', '\"truthfully\"', '\"ultimately\"', '\"unabashedly\"', '\"unaccountably\"', '\"unbearably\"', '\"unethically\"', '\"unexpectedly\"', '\"unfortunately\"', '\"unimpressively\"', '\"unnaturally\"', '\"unnecessarily\"', '\"utterly\"', '\"upbeat\"', '\"upliftingly\"', '\"upright\"', '\"upside-down\"', '\"upward\"', '\"upwardly\"', '\"urgently\"', '\"usefully\"', '\"uselessly\"', '\"usually\"', '\"utterly\"', '\"vacantly\"', '\"vaguely\"', '\"vainly\"', '\"valiantly\"', '\"vastly\"', '\"verbally\"', '\"very\"', '\"viciously\"', '\"victoriously\"', '\"violently\"', '\"vivaciously\"', '\"voluntarily\"', '\"warmly\"', '\"weakly\"', '\"wearily\"', '\"well\"', '\"wetly\"', '\"wholly\"', '\"wildly\"', '\"willfully\"', '\"wisely\"', '\"woefully\"', '\"wonderfully\"', '\"worriedly\"', '\"wrongly\"', '\"yawningly\"', '\"yearly\"', '\"yearningly\"', '\"yesterday\"', '\"yieldingly\"', '\"youthfully', '', '', '']\n"
     ]
    }
   ],
   "source": [
    "adverblist = []\n",
    "for line in adverbs.split('\\n'):\n",
    "    adverb = line.strip(' ')\n",
    "    adverblist.append(adverb[:-1])    \n",
    "print adverblist"
   ]
  },
  {
   "cell_type": "code",
   "execution_count": 83,
   "metadata": {
    "collapsed": false
   },
   "outputs": [
    {
     "name": "stdout",
     "output_type": "stream",
     "text": [
      ", \"adverbs\": , \"abnormally\", \"absentmindedly\", \"accidentally\", \"acidly\", \"actually\", \"adventurously\", \"afterwards\", \"almost\", \"always\", \"angrily\", \"annually\", \"anxiously\", \"arrogantly\", \"awkwardly\", \"badly\", \"bashfully\", \"beautifully\", \"bitterly\", \"bleakly\", \"blindly\", \"blissfully\", \"boastfully\", \"boldly\", \"bravely\", \"briefly\", \"brightly\", \"briskly\", \"broadly\", \"busily\", \"calmly\", \"carefully\", \"carelessly\", \"cautiously\", \"certainly\", \"cheerfully\", \"clearly\", \"cleverly\", \"closely\", \"coaxingly\", \"colorfully\", \"commonly\", \"continually\", \"coolly\", \"correctly\", \"courageously\", \"crossly\", \"cruelly\", \"curiously\", \"daily\", \"daintily\", \"dearly\", \"deceivingly\", \"delightfully\", \"deeply\", \"defiantly\", \"deliberately\", \"delightfully\", \"diligently\", \"dimly\", \"doubtfully\", \"dreamily\", \"easily\", \"elegantly\", \"energetically\", \"enormously\", \"enthusiastically\", \"equally\", \"especially\", \"even\", \"evenly\", \"eventually\", \"exactly\", \"excitedly\", \"extremely\", \"fairly\", \"faithfully\", \"famously\", \"far\", \"fast\", \"fatally\", \"ferociously\", \"fervently\", \"fiercely\", \"fondly\", \"foolishly\", \"fortunately\", \"frankly\", \"frantically\", \"freely\", \"frenetically\", \"frightfully\", \"fully\", \"furiously\", \"generally\", \"generously\", \"gently\", \"gladly\", \"gleefully\", \"gracefully\", \"gratefully\", \"greatly\", \"greedily\", \"happily\", \"hastily\", \"healthily\", \"heavily\", \"helpfully\", \"helplessly\", \"highly\", \"honestly\", \"hopelessly\", \"hourly\", \"hungrily\", \"immediately\", \"innocently\", \"inquisitively\", \"instantly\", \"intensely\", \"intently\", \"interestingly\", \"inwardly\", \"irritably\", \"jaggedly\", \"jealously\", \"joshingly\", \"joyfully\", \"joyously\", \"jovially\", \"jubilantly\", \"judgementally\", \"justly\", \"keenly\", \"kiddingly\", \"kindheartedly\", \"kindly\", \"kissingly\", \"knavishly\", \"knottily\", \"knowingly\", \"knowledgeably\", \"kookily\", \"lazily\", \"less\", \"lightly\", \"likely\", \"limply\", \"lively\", \"loftily\", \"longingly\", \"loosely\", \"lovingly\", \"loudly\", \"loyally\", \"madly\", \"majestically\", \"meaningfully\", \"mechanically\", \"merrily\", \"miserably\", \"mockingly\", \"monthly\", \"more\", \"mortally\", \"mostly\", \"mysteriously\", \"naturally\", \"nearly\", \"neatly\", \"needily\", \"nervously\", \"never\", \"nicely\", \"noisily\", \"not\", \"obediently\", \"obnoxiously\", \"oddly\", \"offensively\", \"officially\", \"often\", \"only\", \"openly\", \"optimistically\", \"overconfidently\", \"owlishly\", \"painfully\", \"partially\", \"patiently\", \"perfectly\", \"physically\", \"playfully\", \"politely\", \"poorly\", \"positively\", \"potentially\", \"powerfully\", \"promptly\", \"properly\", \"punctually\", \"quaintly\", \"quarrelsomely\", \"queasily\", \"queerly\", \"questionably\", \"questioningly\", \"quicker\", \"quickly\", \"quietly\", \"quirkily\", \"quizzically\", \"rapidly\", \"rarely\", \"readily\", \"really\", \"reassuringly\", \"recklessly\", \"regularly\", \"reluctantly\", \"repeatedly\", \"reproachfully\", \"restfully\", \"righteously\", \"rightfully\", \"rigidly\", \"roughly\", \"rudely\", \"sadly\", \"safely\", \"scarcely\", \"scarily\", \"searchingly\", \"sedately\", \"seemingly\", \"seldom\", \"selfishly\", \"separately\", \"seriously\", \"shakily\", \"sharply\", \"sheepishly\", \"shrilly\", \"shyly\", \"silently\", \"sleepily\", \"slowly\", \"smoothly\", \"softly\", \"solemnly\", \"solidly\", \"sometimes\", \"soon\", \"speedily\", \"stealthily\", \"sternly\", \"strictly\", \"successfully\", \"suddenly\", \"surprisingly\", \"suspiciously\", \"sweetly\", \"swiftly\", \"sympathetically\", \"tenderly\", \"tensely\", \"terribly\", \"thankfully\", \"thoroughly\", \"thoughtfully\", \"tightly\", \"tomorrow\", \"too\", \"tremendously\", \"triumphantly\", \"truly\", \"truthfully\", \"ultimately\", \"unabashedly\", \"unaccountably\", \"unbearably\", \"unethically\", \"unexpectedly\", \"unfortunately\", \"unimpressively\", \"unnaturally\", \"unnecessarily\", \"utterly\", \"upbeat\", \"upliftingly\", \"upright\", \"upside-down\", \"upward\", \"upwardly\", \"urgently\", \"usefully\", \"uselessly\", \"usually\", \"utterly\", \"vacantly\", \"vaguely\", \"vainly\", \"valiantly\", \"vastly\", \"verbally\", \"very\", \"viciously\", \"victoriously\", \"violently\", \"vivaciously\", \"voluntarily\", \"warmly\", \"weakly\", \"wearily\", \"well\", \"wetly\", \"wholly\", \"wildly\", \"willfully\", \"wisely\", \"woefully\", \"wonderfully\", \"worriedly\", \"wrongly\", \"yawningly\", \"yearly\", \"yearningly\", \"yesterday\", \"yieldingly\", \"youthfully, , , \n"
     ]
    }
   ],
   "source": [
    "adverbstring = ', '.join(adverblist)\n",
    "print adverbstring"
   ]
  },
  {
   "cell_type": "code",
   "execution_count": 84,
   "metadata": {
    "collapsed": false
   },
   "outputs": [],
   "source": [
    "adverbfile = open(\"adverblist.txt\", \"w\")\n",
    "adverbfile.write(adverbstring)\n",
    "adverbfile.close()"
   ]
  },
  {
   "cell_type": "code",
   "execution_count": null,
   "metadata": {
    "collapsed": true
   },
   "outputs": [],
   "source": []
  }
 ],
 "metadata": {
  "kernelspec": {
   "display_name": "Python 2",
   "language": "python",
   "name": "python2"
  },
  "language_info": {
   "codemirror_mode": {
    "name": "ipython",
    "version": 2
   },
   "file_extension": ".py",
   "mimetype": "text/x-python",
   "name": "python",
   "nbconvert_exporter": "python",
   "pygments_lexer": "ipython2",
   "version": "2.7.10"
  }
 },
 "nbformat": 4,
 "nbformat_minor": 0
}
